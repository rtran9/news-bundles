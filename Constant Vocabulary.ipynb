{
 "cells": [
  {
   "cell_type": "code",
   "execution_count": 33,
   "metadata": {
    "collapsed": false
   },
   "outputs": [],
   "source": [
    "import os\n",
    "import time\n",
    "import re\n",
    "import nltk\n",
    "import numpy as np\n",
    "from nltk.tokenize import word_tokenize\n",
    "from pymongo import MongoClient\n",
    "from sklearn.feature_extraction.text import CountVectorizer\n",
    "import segments"
   ]
  },
  {
   "cell_type": "code",
   "execution_count": 34,
   "metadata": {
    "collapsed": false
   },
   "outputs": [],
   "source": [
    "DAY = 86400000\n",
    "HOUR = 3600000\n",
    "def millis():\n",
    "    return int(round(time.time() * 1000))\n",
    "\n",
    "def millis_since(num_days='2'):\n",
    "    days = int(os.environ.get('TIME_FRAME_DAYS', num_days))\n",
    "    return millis() - days*DAY\n",
    "\n",
    "def get_all_segments():\n",
    "    MONGO_URL = 'mongodb://um.media.mit.edu:27017/super-glue'\n",
    "    collection = MongoClient(MONGO_URL).get_default_database()['media']\n",
    "\n",
    "    #\"date_added\": {\"$gt\": millis_since('1')},\n",
    "    all_media_has_segments = collection.find({\"story_segments\":{\"$exists\": True},\"is_news\":{\"$eq\": True}})\n",
    "    num_of_videos = all_media_has_segments.count()\n",
    "    print \"%d videos\"%num_of_videos\n",
    "    # total_segments = 0\n",
    "    all_segments = []\n",
    "    for media in all_media_has_segments:\n",
    "        segs = get_texts(media)\n",
    "        all_segments.extend(segs)\n",
    "    print \"%d total segments\"%len(all_segments)\n",
    "    return all_segments"
   ]
  },
  {
   "cell_type": "code",
   "execution_count": 35,
   "metadata": {
    "collapsed": false
   },
   "outputs": [],
   "source": [
    "def get_texts(media):\n",
    "    segs = media[\"story_segments\"]\n",
    "    # com_caps = media[\"commercials_captions\"]\n",
    "    texts = []\n",
    "    file_name = lambda x:''.join(x.split('.')[4:])\n",
    "    for i in range (len(segs)):\n",
    "        text = \"\"\n",
    "        if \"text\" in segs[i]:\n",
    "            text = segs[i][\"text\"]\n",
    "        length = float(segs[i][\"end\"])-float(segs[i][\"start\"])\n",
    "        if len(text.strip())>200 and length>4000:\n",
    "            texts.append({\n",
    "                \"text\":text})\n",
    "    return texts"
   ]
  },
  {
   "cell_type": "code",
   "execution_count": 75,
   "metadata": {
    "collapsed": false
   },
   "outputs": [],
   "source": [
    "# load nltk's SnowballStemmer as variabled 'stemmer'\n",
    "from nltk.stem.snowball import SnowballStemmer\n",
    "\n",
    "def process_texts(all_segments):\n",
    "    stemmer = SnowballStemmer(\"english\")\n",
    "    print (\"starting to precess texts\")\n",
    "    # load nltk's English stopwords as variable called 'stopwords'\n",
    "    stopwords = nltk.corpus.stopwords.words('english')\n",
    "    print (\"got stopwords!\")\n",
    "    pattern = re.compile('[\\W_]+')\n",
    "    #nouns = ['NN', 'NNS', 'NNPS', 'NNP', 'JJ']\n",
    "    for seg in all_segments:\n",
    "        parts = [pattern.sub('', token).lower() for token in word_tokenize(seg[\"text\"])]\n",
    "        clean = [i for i in parts if i not in stopwords and len(re.findall('[a-zA-Z]', i))>2]\n",
    "        seg[\"processed\"] = clean\n",
    "\n",
    "    seg_texts = [seg[\"text\"] for seg in all_segments] # list of all tweet texts\n",
    "    seg_texts_processed = [str.join(\" \", seg[\"processed\"]) for seg in all_segments] # list of pre-processed tweet texts\n",
    "    for seg in all_segments:\n",
    "        seg.pop(\"processed\")\n",
    "    return seg_texts_processed"
   ]
  },
  {
   "cell_type": "code",
   "execution_count": 76,
   "metadata": {
    "collapsed": false
   },
   "outputs": [
    {
     "name": "stdout",
     "output_type": "stream",
     "text": [
      "7553 videos\n",
      "24698 total segments\n",
      "starting to precess texts\n",
      "got stopwords!\n"
     ]
    }
   ],
   "source": [
    "all_segments = get_all_segments()\n",
    "processed_segments = process_texts(all_segments)\n",
    "stopwords = nltk.corpus.stopwords.words('english')\n",
    "cvectorizer = CountVectorizer(max_df=1.0, min_df=3, max_features=150000, stop_words=stopwords, ngram_range=(1,1))\n",
    "cvz = cvectorizer.fit(processed_segments)"
   ]
  },
  {
   "cell_type": "code",
   "execution_count": 77,
   "metadata": {
    "collapsed": true
   },
   "outputs": [],
   "source": [
    "non_stemmed_vocab_arr = cvectorizer.get_feature_names()\n",
    "non_stemmed_vocab_dict = cvectorizer.vocabulary_"
   ]
  },
  {
   "cell_type": "code",
   "execution_count": 79,
   "metadata": {
    "collapsed": true
   },
   "outputs": [],
   "source": [
    "import json\n",
    "with open('non_stemmed_vocab_arr.json', 'w') as outfile:\n",
    "    json.dump({\"vocab\":non_stemmed_vocab_arr}, outfile)\n",
    "with open('non_stemmed_vocab_dict.json', 'w') as outfile:\n",
    "    json.dump(non_stemmed_vocab_dict, outfile)"
   ]
  },
  {
   "cell_type": "code",
   "execution_count": 78,
   "metadata": {
    "collapsed": false
   },
   "outputs": [
    {
     "name": "stdout",
     "output_type": "stream",
     "text": [
      "33639\n"
     ]
    }
   ],
   "source": [
    "print len(non_stemmed_vocab_arr)"
   ]
  },
  {
   "cell_type": "code",
   "execution_count": 67,
   "metadata": {
    "collapsed": false
   },
   "outputs": [
    {
     "name": "stdout",
     "output_type": "stream",
     "text": [
      "[u'000', u'10', u'100', u'104', u'108', u'10ths', u'11', u'12', u'120', u'126', u'13', u'130', u'14', u'15', u'16', u'164', u'17', u'18', u'180', u'19', u'1980reagan', u'20', u'200', u'2006', u'21', u'22', u'23', u'24', u'25', u'26', u'27', u'270', u'28', u'29', u'30', u'300', u'31', u'32', u'33', u'34', u'35', u'350', u'36', u'38', u'39', u'40', u'400', u'41', u'42', u'43', u'44', u'45', u'46', u'47', u'48', u'49', u'49er', u'50', u'500', u'51', u'52', u'53', u'538', u'54', u'55', u'57', u'58', u'59', u'5ths', u'60', u'61', u'62', u'63', u'65', u'66', u'67', u'68', u'69', u'70', u'700', u'71', u'73', u'74', u'743', u'75', u'77', u'780', u'79', u'80', u'800', u'83', u'86', u'87', u'888', u'90', u'94', u'95', u'97', u'99', u'aaa', u'aagre', u'aall', u'aand', u'aandf', u'aar', u'aaron', u'aarp', u'aassum', u'aation', u'aattack', u'ab', u'aback', u'abadi', u'abandon', u'abat', u'abbey', u'abbi', u'abbott', u'abc', u'abd', u'abdean', u'abdic', u'abdomen', u'abduct', u'abdul', u'abe', u'abedin', u'aberdeen', u'aberr', u'abet', u'abhor', u'abhorr', u'abid', u'abiden', u'abigail', u'abil', u'abinstruct', u'abinwhhioug', u'abject', u'abl', u'ablaz', u'abli', u'abm', u'abnorm', u'abo', u'aboard', u'abolish', u'abolit', u'abomin', u'abort', u'abou', u'abound', u'aboutth', u'abr', u'abraham', u'abram', u'abreast', u'abridg', u'abroad', u'abrog', u'abrupt', u'abrust', u'absenc', u'absent', u'absente', u'absolut', u'absolv', u'absorb', u'absorpt', u'abstain', u'abstract', u'absurd', u'abt', u'abu', u'abund', u'abus', u'abuzz', u'abysm', u'abyss', u'abyssl', u'aca', u'acacia', u'academ', u'academi', u'academia', u'acan', u'acc', u'acced', u'acceler', u'accent', u'accentu', u'accentur', u'accept', u'access', u'accessori', u'accid', u'accident', u'acclaim', u'acclim', u'accolad']\n"
     ]
    }
   ],
   "source": [
    "print vocab_arr[0:200]"
   ]
  },
  {
   "cell_type": "code",
   "execution_count": 48,
   "metadata": {
    "collapsed": false
   },
   "outputs": [],
   "source": [
    "test = cvectorizer.transform([\"hello my name is jasmin im 12 years old trump man city caesarea isreal trump trump cat jasmin\"])"
   ]
  },
  {
   "cell_type": "code",
   "execution_count": 65,
   "metadata": {
    "collapsed": false
   },
   "outputs": [
    {
     "name": "stdout",
     "output_type": "stream",
     "text": [
      "[[0 0 0 ..., 0 0 0]]\n"
     ]
    },
    {
     "ename": "AttributeError",
     "evalue": "'numpy.ndarray' object has no attribute 'tocsr'",
     "output_type": "error",
     "traceback": [
      "\u001b[0;31m---------------------------------------------------------------------------\u001b[0m",
      "\u001b[0;31mAttributeError\u001b[0m                            Traceback (most recent call last)",
      "\u001b[0;32m<ipython-input-65-81cac19db3bb>\u001b[0m in \u001b[0;36m<module>\u001b[0;34m()\u001b[0m\n\u001b[1;32m      1\u001b[0m \u001b[0marr_test\u001b[0m \u001b[0;34m=\u001b[0m \u001b[0mtest\u001b[0m\u001b[0;34m.\u001b[0m\u001b[0mtoarray\u001b[0m\u001b[0;34m(\u001b[0m\u001b[0;34m)\u001b[0m\u001b[0;34m\u001b[0m\u001b[0m\n\u001b[1;32m      2\u001b[0m \u001b[0;32mprint\u001b[0m \u001b[0marr_test\u001b[0m\u001b[0;34m\u001b[0m\u001b[0m\n\u001b[0;32m----> 3\u001b[0;31m \u001b[0;32mprint\u001b[0m \u001b[0marr_test\u001b[0m\u001b[0;34m.\u001b[0m\u001b[0mtocsr\u001b[0m\u001b[0;34m(\u001b[0m\u001b[0;34m)\u001b[0m\u001b[0;34m\u001b[0m\u001b[0m\n\u001b[0m",
      "\u001b[0;31mAttributeError\u001b[0m: 'numpy.ndarray' object has no attribute 'tocsr'"
     ]
    }
   ],
   "source": [
    "arr_test = test.toarray()\n",
    "print arr_test\n",
    "print arr_test.tocsr()"
   ]
  },
  {
   "cell_type": "code",
   "execution_count": 60,
   "metadata": {
    "collapsed": false
   },
   "outputs": [
    {
     "name": "stdout",
     "output_type": "stream",
     "text": [
      "years\n"
     ]
    }
   ],
   "source": []
  },
  {
   "cell_type": "code",
   "execution_count": null,
   "metadata": {
    "collapsed": true
   },
   "outputs": [],
   "source": []
  }
 ],
 "metadata": {
  "kernelspec": {
   "display_name": "Python 2",
   "language": "python",
   "name": "python2"
  },
  "language_info": {
   "codemirror_mode": {
    "name": "ipython",
    "version": 2
   },
   "file_extension": ".py",
   "mimetype": "text/x-python",
   "name": "python",
   "nbconvert_exporter": "python",
   "pygments_lexer": "ipython2",
   "version": "2.7.10"
  }
 },
 "nbformat": 4,
 "nbformat_minor": 1
}
